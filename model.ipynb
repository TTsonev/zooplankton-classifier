{
 "cells": [
  {
   "cell_type": "markdown",
   "metadata": {},
   "source": [
    "### Model architecture demonstration"
   ]
  },
  {
   "cell_type": "markdown",
   "metadata": {},
   "source": [
    "#### Dataset used: https://www.kaggle.com/datasets/iandutoit/crustacea-zooscan-image-database"
   ]
  },
  {
   "cell_type": "code",
   "execution_count": null,
   "metadata": {},
   "outputs": [],
   "source": [
    "import numpy as np\n",
    "import pathlib\n",
    "\n",
    "import tensorflow as tf\n",
    "from tensorflow import keras\n",
    "\n",
    "from keras.models import Sequential\n",
    "from keras import layers"
   ]
  },
  {
   "cell_type": "code",
   "execution_count": null,
   "metadata": {},
   "outputs": [],
   "source": [
    "data_dir = pathlib.Path('/zooplankton/train')"
   ]
  },
  {
   "cell_type": "code",
   "execution_count": null,
   "metadata": {},
   "outputs": [],
   "source": [
    "# Extract class labels\n",
    "\n",
    "images = []\n",
    "lables = []\n",
    "\n",
    "import os\n",
    "for root, dirs, files in os.walk('/zooplankton/train'):\n",
    "  for dir in dirs:\n",
    "    lst = os.listdir('/zooplankton/train/' + str(dir))\n",
    "    templabels = [str(dir)] * len(lst)\n",
    "    lables.extend(templabels)\n",
    "  for img in files:\n",
    "    images.append(img)"
   ]
  },
  {
   "cell_type": "code",
   "execution_count": null,
   "metadata": {},
   "outputs": [],
   "source": [
    "# Constuct training and validation sets\n",
    "\n",
    "batch_size = 32\n",
    "img_height = 90\n",
    "img_width = 90\n",
    "\n",
    "train_ds = tf.keras.utils.image_dataset_from_directory(\n",
    "  data_dir,\n",
    "  validation_split=0.2,\n",
    "  subset=\"training\",\n",
    "  #color_mode = \"grayscale\",\n",
    "  seed=123,\n",
    "  image_size=(img_height, img_width),\n",
    "  batch_size=batch_size)\n",
    "\n",
    "val_ds = tf.keras.utils.image_dataset_from_directory(\n",
    "  data_dir,\n",
    "  validation_split=0.2,\n",
    "  subset=\"validation\",\n",
    "  #color_mode = \"grayscale\",\n",
    "  seed=123,\n",
    "  image_size=(img_height, img_width),\n",
    "  batch_size=batch_size)"
   ]
  },
  {
   "cell_type": "code",
   "execution_count": null,
   "metadata": {},
   "outputs": [],
   "source": [
    "# Image augemntation\n",
    "\n",
    "data_augmentation = tf.keras.Sequential([\n",
    "  layers.Reshape(target_shape = (90,90,3))\n",
    "])\n",
    "\n",
    "'''\n",
    "  #layers.Rescaling(1./255),\n",
    "  layers.RandomFlip(\"horizontal\",\n",
    "                      input_shape=(28,\n",
    "                                  28,\n",
    "                                  1)),\n",
    "  layers.RandomRotation(0.3),\n",
    "  layers.RandomZoom(0.2, 0.5),\n",
    "'''"
   ]
  },
  {
   "cell_type": "code",
   "execution_count": null,
   "metadata": {},
   "outputs": [],
   "source": [
    "model = Sequential([\n",
    "  data_augmentation,\n",
    "  layers.Rescaling(1./255, input_shape=(img_height, img_width, 3)),\n",
    "\n",
    "  layers.Conv2D(16, 4, strides= 1, padding='same', activation='relu', input_shape=(img_height, img_width, 3)),\n",
    "  layers.BatchNormalization(),\n",
    "  \n",
    "  layers.MaxPooling2D(2),\n",
    "  \n",
    "  layers.Conv2D(32, 3, strides= 1, padding='same', activation='relu', input_shape=(img_height, img_width, 3)),\n",
    "  layers.BatchNormalization(),\n",
    "  layers.Conv2D(64, 3, strides= 1, padding='same', activation='relu', input_shape=(img_height, img_width, 3)),\n",
    "  layers.BatchNormalization(),\n",
    "\n",
    "  layers.Dropout(0.1),\n",
    "  layers.MaxPooling2D(2),\n",
    "\n",
    "  layers.Conv2D(128, 3, strides= 1, padding='same', activation='relu', input_shape=(img_height, img_width, 3)),\n",
    "  layers.BatchNormalization(),\n",
    "  layers.Dropout(0.2),\n",
    "\n",
    "  layers.Conv2D(64, 3, strides= 1, padding='same', activation='relu', input_shape=(img_height, img_width, 3)),\n",
    "  layers.BatchNormalization(),\n",
    "  layers.Conv2D(32, 3, strides= 1, padding='same', activation='relu', input_shape=(img_height, img_width, 3)),\n",
    "  layers.BatchNormalization(),\n",
    "\n",
    "  layers.Flatten(),\n",
    "  layers.Dense(4096), \n",
    "  layers.Dense(24)\n",
    "])\n",
    "\n",
    "model.summary()\n",
    "\n",
    "model.compile(optimizer='adam',\n",
    "              loss=tf.keras.losses.SparseCategoricalCrossentropy(from_logits=True),\n",
    "              metrics=['accuracy'])"
   ]
  },
  {
   "cell_type": "code",
   "execution_count": null,
   "metadata": {},
   "outputs": [],
   "source": [
    "# Callback, stops training if no progress is being made and loads best epoch weights\n",
    "\n",
    "class zooplankton_callback(keras.callbacks.Callback):\n",
    "    def __init__ (self, model, epochs):\n",
    "        super(zooplankton_callback, self).__init__()\n",
    "        self.model=model               \n",
    "        self.epochs=epochs\n",
    "        self.lowest_vloss=np.inf\n",
    "        self.best_weights=self.model.get_weights()\n",
    "        self.best_epoch=1\n",
    "                \n",
    "    def on_train_end(self, logs=None):  \n",
    "        self.model.set_weights(self.best_weights) \n",
    "        \n",
    "    def on_epoch_end(self, epoch, logs=None):  \n",
    "        v_loss=logs.get('val_loss')  \n",
    "        if v_loss< self.lowest_vloss:\n",
    "            self.lowest_vloss=v_loss\n",
    "            self.best_weights=self.model.get_weights() \n",
    "            self.best_epoch=epoch + 1"
   ]
  },
  {
   "cell_type": "code",
   "execution_count": null,
   "metadata": {},
   "outputs": [],
   "source": [
    "epochs = 10\n",
    "\n",
    "callbacks=[zooplankton_callback(model, epochs)]\n",
    "\n",
    "model.fit(x=train_ds,  \n",
    "            epochs=epochs,\n",
    "            verbose=1,\n",
    "            callbacks=callbacks,  \n",
    "            validation_data=val_ds,\n",
    "            validation_steps=None,\n",
    "            shuffle=False,  \n",
    "            initial_epoch=0)"
   ]
  },
  {
   "cell_type": "code",
   "execution_count": null,
   "metadata": {},
   "outputs": [],
   "source": [
    "# Export model\n",
    "\n",
    "io_option = tf.saved_model.SaveOptions(experimental_io_device=\"/job:localhost\")\n",
    "model.save(\"model\", options=io_option)"
   ]
  }
 ],
 "metadata": {
  "language_info": {
   "name": "python"
  },
  "orig_nbformat": 4
 },
 "nbformat": 4,
 "nbformat_minor": 2
}
